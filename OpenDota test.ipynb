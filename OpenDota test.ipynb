{
 "cells": [
  {
   "cell_type": "code",
   "execution_count": 3,
   "id": "ac98a1cc-8991-4f8c-ac43-c9087e06feba",
   "metadata": {
    "tags": []
   },
   "outputs": [],
   "source": [
    "import requests\n",
    "from datetime import datetime\n",
    "import psycopg2 as psql\n",
    "from dotenv import load_dotenv, dotenv_values\n",
    "import os"
   ]
  },
  {
   "cell_type": "code",
   "execution_count": 9,
   "id": "aa0d58e5-cdbd-4c32-b503-86b3f1268b05",
   "metadata": {
    "tags": []
   },
   "outputs": [
    {
     "data": {
      "text/plain": [
       "True"
      ]
     },
     "execution_count": 9,
     "metadata": {},
     "output_type": "execute_result"
    }
   ],
   "source": [
    "load_dotenv()"
   ]
  },
  {
   "cell_type": "code",
   "execution_count": 69,
   "id": "e0205ed9-c7ae-4ab7-baea-b12e54dff664",
   "metadata": {
    "tags": []
   },
   "outputs": [],
   "source": [
    "responce = requests.get('https://api.opendota.com/api/publicMatches?min_rank=40&max_rank=45')"
   ]
  },
  {
   "cell_type": "code",
   "execution_count": 70,
   "id": "15ab45bb-a20f-4f78-90be-2bec2944c7ea",
   "metadata": {
    "tags": []
   },
   "outputs": [
    {
     "data": {
      "text/plain": [
       "<Response [200]>"
      ]
     },
     "execution_count": 70,
     "metadata": {},
     "output_type": "execute_result"
    }
   ],
   "source": [
    "responce"
   ]
  },
  {
   "cell_type": "code",
   "execution_count": 73,
   "id": "8f0b7995-9ec0-4e69-a76d-12fb6a216082",
   "metadata": {
    "tags": []
   },
   "outputs": [],
   "source": [
    "matches = responce.json()"
   ]
  },
  {
   "cell_type": "code",
   "execution_count": 75,
   "id": "d9212cb7-e824-4e98-81b9-26bcd43c4521",
   "metadata": {
    "tags": []
   },
   "outputs": [
    {
     "data": {
      "text/plain": [
       "100"
      ]
     },
     "execution_count": 75,
     "metadata": {},
     "output_type": "execute_result"
    }
   ],
   "source": [
    "len(matches)"
   ]
  },
  {
   "cell_type": "code",
   "execution_count": 77,
   "id": "496360ce-2839-4e00-8045-c937d30315ef",
   "metadata": {},
   "outputs": [
    {
     "data": {
      "text/plain": [
       "dict_keys(['match_id', 'match_seq_num', 'radiant_win', 'start_time', 'duration', 'lobby_type', 'game_mode', 'avg_rank_tier', 'num_rank_tier', 'cluster', 'radiant_team', 'dire_team'])"
      ]
     },
     "execution_count": 77,
     "metadata": {},
     "output_type": "execute_result"
    }
   ],
   "source": [
    "matches[0].keys()"
   ]
  },
  {
   "cell_type": "code",
   "execution_count": 79,
   "id": "5d0b667a-8015-403f-86c6-7b3b81a1f22e",
   "metadata": {
    "tags": []
   },
   "outputs": [
    {
     "data": {
      "text/plain": [
       "7817126314"
      ]
     },
     "execution_count": 79,
     "metadata": {},
     "output_type": "execute_result"
    }
   ],
   "source": [
    "matches[0]['match_id']"
   ]
  },
  {
   "cell_type": "code",
   "execution_count": 81,
   "id": "8a6562f8-d369-4d03-a12f-792cb88191f0",
   "metadata": {
    "tags": []
   },
   "outputs": [
    {
     "name": "stdout",
     "output_type": "stream",
     "text": [
      "2024-06-27 07:16:33\n"
     ]
    }
   ],
   "source": [
    "print(datetime.utcfromtimestamp(matches[0]['start_time']).strftime('%Y-%m-%d %H:%M:%S'))"
   ]
  },
  {
   "cell_type": "code",
   "execution_count": 83,
   "id": "4c194eaf-1b38-4a03-8731-01cef12a2153",
   "metadata": {
    "tags": []
   },
   "outputs": [
    {
     "data": {
      "text/plain": [
       "3"
      ]
     },
     "execution_count": 83,
     "metadata": {},
     "output_type": "execute_result"
    }
   ],
   "source": [
    "matches[3]['game_mode']"
   ]
  },
  {
   "cell_type": "code",
   "execution_count": 85,
   "id": "e557861a-db6c-49f2-a323-b4578318d2bc",
   "metadata": {
    "tags": []
   },
   "outputs": [],
   "source": [
    "matches = [match for match in matches if match['game_mode']==22]"
   ]
  },
  {
   "cell_type": "code",
   "execution_count": 87,
   "id": "b493e01d-6639-4faa-987e-d6da221722ba",
   "metadata": {
    "tags": []
   },
   "outputs": [
    {
     "data": {
      "text/plain": [
       "94"
      ]
     },
     "execution_count": 87,
     "metadata": {},
     "output_type": "execute_result"
    }
   ],
   "source": [
    "len(matches)"
   ]
  },
  {
   "cell_type": "markdown",
   "id": "852bc3d6-9137-47e3-b3e3-8d3bf24341bf",
   "metadata": {},
   "source": [
    "This method allows direct query of the matches table using a Query"
   ]
  },
  {
   "cell_type": "code",
   "execution_count": 196,
   "id": "b2e39589-343f-458b-8ab2-211e312d33af",
   "metadata": {
    "tags": []
   },
   "outputs": [],
   "source": [
    "responce = requests.get('https://api.opendota.com/api/explorer?sql=SELECT%20%2A%20FROM%20matches%20LIMIT%201%20ORDER%20BY%20%27start_time%27%3B')"
   ]
  },
  {
   "cell_type": "code",
   "execution_count": 197,
   "id": "b5385b27-237c-4fbd-8efd-49ed68d49857",
   "metadata": {
    "tags": []
   },
   "outputs": [
    {
     "data": {
      "text/plain": [
       "<Response [400]>"
      ]
     },
     "execution_count": 197,
     "metadata": {},
     "output_type": "execute_result"
    }
   ],
   "source": [
    "responce"
   ]
  },
  {
   "cell_type": "code",
   "execution_count": 167,
   "id": "44456716-b726-4e21-97d3-873fe1a35820",
   "metadata": {
    "tags": []
   },
   "outputs": [],
   "source": [
    "matches = responce.json()"
   ]
  },
  {
   "cell_type": "code",
   "execution_count": 169,
   "id": "14af1885-baf4-4cc5-95ae-892555537b11",
   "metadata": {
    "tags": []
   },
   "outputs": [
    {
     "data": {
      "text/plain": [
       "11"
      ]
     },
     "execution_count": 169,
     "metadata": {},
     "output_type": "execute_result"
    }
   ],
   "source": [
    "len(matches)"
   ]
  },
  {
   "cell_type": "code",
   "execution_count": 171,
   "id": "346467fb-340c-4ac7-ae1a-b169755eb39f",
   "metadata": {
    "tags": []
   },
   "outputs": [
    {
     "data": {
      "text/plain": [
       "dict_keys(['command', 'rowCount', 'oid', 'rows', 'fields', '_parsers', '_types', 'RowCtor', 'rowAsArray', '_prebuiltEmptyResultObject', 'err'])"
      ]
     },
     "execution_count": 171,
     "metadata": {},
     "output_type": "execute_result"
    }
   ],
   "source": [
    "matches.keys()"
   ]
  },
  {
   "cell_type": "markdown",
   "id": "b99ee536-d5c5-4633-b6a8-5057d5aa028d",
   "metadata": {},
   "source": [
    "Mappings for team 0 (radiant) team 1 is Dire"
   ]
  },
  {
   "cell_type": "code",
   "execution_count": 138,
   "id": "ed437093-cc96-430c-818f-29942ed269e2",
   "metadata": {
    "tags": []
   },
   "outputs": [
    {
     "data": {
      "text/plain": [
       "dict_keys(['match_id', 'match_seq_num', 'radiant_win', 'start_time', 'duration', 'tower_status_radiant', 'tower_status_dire', 'barracks_status_radiant', 'barracks_status_dire', 'cluster', 'first_blood_time', 'lobby_type', 'human_players', 'leagueid', 'positive_votes', 'negative_votes', 'game_mode', 'engine', 'picks_bans', 'radiant_team_id', 'dire_team_id', 'radiant_team_name', 'dire_team_name', 'radiant_team_complete', 'dire_team_complete', 'radiant_captain', 'dire_captain', 'chat', 'objectives', 'radiant_gold_adv', 'radiant_xp_adv', 'teamfights', 'version', 'cosmetics', 'radiant_score', 'dire_score', 'draft_timings', 'series_id', 'series_type', 'replay_salt'])"
      ]
     },
     "execution_count": 138,
     "metadata": {},
     "output_type": "execute_result"
    }
   ],
   "source": [
    "matches['rows'][0].keys()"
   ]
  },
  {
   "cell_type": "code",
   "execution_count": 178,
   "id": "fc3b8ec2-fb3f-486d-8d24-62fc7964aac2",
   "metadata": {
    "tags": []
   },
   "outputs": [
    {
     "data": {
      "text/plain": [
       "7502154550"
      ]
     },
     "execution_count": 178,
     "metadata": {},
     "output_type": "execute_result"
    }
   ],
   "source": [
    "matches['rows'][0]['match_id']"
   ]
  },
  {
   "cell_type": "code",
   "execution_count": 214,
   "id": "7d5af227-4185-415b-a0c2-63f8ea8c8ed7",
   "metadata": {
    "tags": []
   },
   "outputs": [],
   "source": [
    "responce = requests.get('https://api.opendota.com/api/explorer?sql=SELECT%20match_id%2C%20start_time%20FROM%20matches%20ORDER%20BY%20match_id%20DESC%20LIMIT%201000%3B')"
   ]
  },
  {
   "cell_type": "code",
   "execution_count": 216,
   "id": "cdcafb10-2428-4c1a-a920-902e32f3b3f1",
   "metadata": {
    "tags": []
   },
   "outputs": [
    {
     "data": {
      "text/plain": [
       "<Response [200]>"
      ]
     },
     "execution_count": 216,
     "metadata": {},
     "output_type": "execute_result"
    }
   ],
   "source": [
    "responce"
   ]
  },
  {
   "cell_type": "code",
   "execution_count": 218,
   "id": "6b529f1a-2ef2-412c-bfec-fd01db4dc68a",
   "metadata": {
    "tags": []
   },
   "outputs": [],
   "source": [
    "matches = responce.json()"
   ]
  },
  {
   "cell_type": "markdown",
   "id": "b5fe0ed9-3731-47b9-9226-b6982bee7740",
   "metadata": {
    "tags": []
   },
   "source": [
    "# duration given in seconds"
   ]
  },
  {
   "cell_type": "code",
   "execution_count": 5,
   "id": "09ffff1b-6b41-4bc9-810e-e1aa2d4043b5",
   "metadata": {
    "tags": []
   },
   "outputs": [],
   "source": [
    "def create_match_table():\n",
    "    conn = psql.connect(database = 'pagila',\n",
    "                    user = os.getenv(\"sql_user\"),\n",
    "                    host = os.getenv(\"host\"),\n",
    "                    password = os.getenv(\"sql_password\"),\n",
    "                    port=5432\n",
    "                    )\n",
    "    cur = conn.cursor()\n",
    "    creation_slq = '''\n",
    "            CREATE TABLE IF NOT EXISTS student.ojdb_matches (\n",
    "                match_id BIGINT PRIMARY KEY,\n",
    "                rank SMALLINT,\n",
    "                radiant_wins BOOLEAN NOT NULL\n",
    "            );\n",
    "    '''\n",
    "    # run query\n",
    "    cur.execute(creation_slq)\n",
    "    conn.commit()\n",
    "    # close connections\n",
    "    cur.close()\n",
    "    conn.close()\n"
   ]
  },
  {
   "cell_type": "code",
   "execution_count": 7,
   "id": "9f09653e-f272-4f91-9f8b-f3122e99591f",
   "metadata": {
    "tags": []
   },
   "outputs": [],
   "source": [
    "def create_hero_picks_table():\n",
    "    conn = psql.connect(database = 'pagila',\n",
    "                    user = os.getenv(\"sql_user\"),\n",
    "                    host = os.getenv(\"host\"),\n",
    "                    password = os.getenv(\"sql_password\"),\n",
    "                    port=5432\n",
    "                    )\n",
    "    cur = conn.cursor()\n",
    "    creation_slq = '''\n",
    "            CREATE TABLE IF NOT EXISTS student.ojdb_hero_picks (\n",
    "                match_id BIGINT REFERENCES student.ojdb_matches(match_id),\n",
    "                hero_id SMALLINT,\n",
    "                team SMALLINT,\n",
    "                facet SMALLINT,\n",
    "                items SMALLINT[] NOT NULL CHECK (array_length(items, 1) = 6),\n",
    "                backpack SMALLINT[] NOT NULL CHECK (array_length(backpack, 1) = 3),\n",
    "                neutral_item SMALLINT,\n",
    "                kills SMALLINT,\n",
    "                deaths SMALLINT,\n",
    "                assists SMALLINT,\n",
    "                gold_per_min SMALLINT,\n",
    "                xp_per_min SMALLINT,\n",
    "                level SMALLINT,\n",
    "                net_worth INT,\n",
    "                aghanims_scepter BOOLEAN,\n",
    "                aghanims_shard BOOLEAN,\n",
    "                moonshard BOOLEAN,\n",
    "                hero_damage INT,\n",
    "                tower_damage INT,\n",
    "                hero_healing INT,\n",
    "                PRIMARY KEY(match_id, hero_id)\n",
    "            );\n",
    "    '''\n",
    "    cur.execute(creation_slq)\n",
    "    conn.commit()\n",
    "    # close connections\n",
    "    cur.close()\n",
    "    conn.close()"
   ]
  },
  {
   "cell_type": "code",
   "execution_count": 49,
   "id": "7ca5f7d0-a854-479f-bce3-80f8e351d499",
   "metadata": {
    "tags": []
   },
   "outputs": [],
   "source": [
    "create_match_table()"
   ]
  },
  {
   "cell_type": "code",
   "execution_count": 51,
   "id": "6d8c24f9-fbf3-4950-aa69-05093f8aeb2d",
   "metadata": {
    "tags": []
   },
   "outputs": [],
   "source": [
    "create_hero_picks_table()"
   ]
  },
  {
   "cell_type": "code",
   "execution_count": 48,
   "id": "fa562d99-aadd-446c-928f-9d432c60be37",
   "metadata": {},
   "outputs": [],
   "source": [
    "def get_matches():\n",
    "    create_match_table()\n",
    "    create_hero_picks_table()\n",
    "    rank_distributions = ((10,15), # herald\n",
    "                          (20,25), # guardian\n",
    "                          (30,35), # crusader\n",
    "                          (40,45), # archon\n",
    "                          (50,55), # legend\n",
    "                          (60,65), # ancient\n",
    "                          (70,75), # divine\n",
    "                          (80,85)) # immortal\n",
    "    \n",
    "    with psql.connect(database = 'pagila',\n",
    "                user = os.getenv(\"sql_user\"),\n",
    "                host = os.getenv(\"host\"),\n",
    "                password = os.getenv(\"sql_password\"),\n",
    "                port=5432) as conn:\n",
    "        with conn.cursor() as cur:\n",
    "            for rank_dist in rank_distributions:\n",
    "                matches = requests.get(\n",
    "                    f\"https://api.opendota.com/api/publicMatches?min_rank={rank_dist[0]}&max_rank={rank_dist[1]}\"\n",
    "                ).json()\n",
    "                insert_match_query = \"\"\"\n",
    "                                    INSERT INTO student.ojdb_matches (match_id, avg_rank, radiant_wins)\n",
    "                                    VALUES (%s, %s, %s)\n",
    "                                    ON CONFLICT (match_id) DO NOTHING;\n",
    "                                    \"\"\"\n",
    "                insert_player_query = \"\"\"\n",
    "                                    INSERT INTO student.ojdb_hero_picks (match_id, hero_id, team, facet, items, backpack, neutral_item,\n",
    "                                    kills, deaths, assists, gold_per_min, xp_per_min, level, net_worth, aghanims_scepter, aghanims_shard,\n",
    "                                    moonshard, hero_damage, tower_damage, hero_healing)\n",
    "                                    VALUES (%s, %s, %s, %s, %s, %s, %s, %s, %s, %s, %s, %s, %s, %s, %s, %s, %s, %s, %s, %s)\n",
    "                                    ON CONFLICT (match_id, hero_id) DO NOTHING;\n",
    "                                    \"\"\"\n",
    "                \n",
    "                for match in matches:\n",
    "                    match_values = (\n",
    "                        match['match_id'],\n",
    "                        match['avg_rank_tier'],\n",
    "                        match['radiant_win']           \n",
    "                        )\n",
    "                    cur.execute(insert_match_query, match_values)\n",
    "                    match_data = requests.get(\n",
    "                        f\"https://api.opendota.com/api/matches/{match['match_id']}\"\n",
    "                    ).json()\n",
    "                    player_data = match_data['players']\n",
    "                    for player in player_data:\n",
    "                        player_values = (\n",
    "                            match['match_id'],\n",
    "                            player['hero_id'],\n",
    "                            player['team_number'],\n",
    "                            player['hero_variant'],\n",
    "                            [player[f'item_{i}'] for i in range(6)],\n",
    "                            [player[f'backpack_{i}'] for i in range(3)],\n",
    "                            player['item_neutral'],\n",
    "                            player['kills'],\n",
    "                            player['deaths'],\n",
    "                            player['assists'],\n",
    "                            player['gold_per_min'],\n",
    "                            player['xp_per_min'],\n",
    "                            player['level'],\n",
    "                            player['net_worth'],\n",
    "                            bool(player['aghanims_scepter']),\n",
    "                            bool(player['aghanims_shard']),\n",
    "                            bool(player['moonshard']),\n",
    "                            player['hero_damage'],\n",
    "                            player['tower_damage'],\n",
    "                            player['hero_healing']\n",
    "                        )\n",
    "                        cur.execute(insert_player_query, player_values)\n",
    "                    conn.commit()\n",
    "                \n",
    "        \n",
    "        \n",
    "    "
   ]
  },
  {
   "cell_type": "code",
   "execution_count": 50,
   "id": "e17a8335-5979-4616-9d41-9fd7c1bae2b9",
   "metadata": {
    "tags": []
   },
   "outputs": [],
   "source": [
    "get_matches()"
   ]
  },
  {
   "cell_type": "code",
   "execution_count": 98,
   "id": "d4926a87-593e-43d6-bbed-9cb2858fdc2b",
   "metadata": {
    "tags": []
   },
   "outputs": [],
   "source": [
    "responce = requests.get('https://api.opendota.com/api/publicmatches')"
   ]
  },
  {
   "cell_type": "code",
   "execution_count": 100,
   "id": "f0c5e0c0-994d-441b-9778-84c653b7bfd9",
   "metadata": {
    "tags": []
   },
   "outputs": [
    {
     "data": {
      "text/plain": [
       "<Response [200]>"
      ]
     },
     "execution_count": 100,
     "metadata": {},
     "output_type": "execute_result"
    }
   ],
   "source": [
    "responce"
   ]
  },
  {
   "cell_type": "code",
   "execution_count": 102,
   "id": "009264b1-a224-4885-8d01-12ba0477f173",
   "metadata": {
    "tags": []
   },
   "outputs": [],
   "source": [
    "matches = responce.json()"
   ]
  },
  {
   "cell_type": "code",
   "execution_count": 104,
   "id": "f4b77521-3cef-4850-b65b-cf355d68e3aa",
   "metadata": {
    "tags": []
   },
   "outputs": [
    {
     "data": {
      "text/plain": [
       "{'match_id': 7817650804,\n",
       " 'match_seq_num': 6580202549,\n",
       " 'radiant_win': True,\n",
       " 'start_time': 1719498044,\n",
       " 'duration': 657,\n",
       " 'lobby_type': 0,\n",
       " 'game_mode': 22,\n",
       " 'avg_rank_tier': 33,\n",
       " 'num_rank_tier': 6,\n",
       " 'cluster': 225,\n",
       " 'radiant_team': [31, 2, 94, 7, 56],\n",
       " 'dire_team': [109, 101, 17, 41, 81]}"
      ]
     },
     "execution_count": 104,
     "metadata": {},
     "output_type": "execute_result"
    }
   ],
   "source": [
    "matches[0]"
   ]
  },
  {
   "cell_type": "code",
   "execution_count": 72,
   "id": "162f0bf1-1a93-4c73-bca1-e50cf7dca62f",
   "metadata": {},
   "outputs": [],
   "source": [
    "responce = requests.get('https://api.opendota.com/api/matches/7817317900')"
   ]
  },
  {
   "cell_type": "code",
   "execution_count": 22,
   "id": "62cbddcf-86cd-4e97-aef1-052c11cb20ac",
   "metadata": {},
   "outputs": [],
   "source": [
    "create_match_table()"
   ]
  },
  {
   "cell_type": "code",
   "execution_count": 74,
   "id": "84db6f67-1592-43ea-938e-3306fa54354b",
   "metadata": {
    "tags": []
   },
   "outputs": [
    {
     "data": {
      "text/plain": [
       "<Response [200]>"
      ]
     },
     "execution_count": 74,
     "metadata": {},
     "output_type": "execute_result"
    }
   ],
   "source": [
    "responce"
   ]
  },
  {
   "cell_type": "code",
   "execution_count": 76,
   "id": "b1103c7c-238e-468e-a376-1cd63cf0b33b",
   "metadata": {
    "tags": []
   },
   "outputs": [],
   "source": [
    "match_data = responce.json()"
   ]
  },
  {
   "cell_type": "code",
   "execution_count": 78,
   "id": "c5e548d2-cb0f-417b-9f7a-6e25b2e7362e",
   "metadata": {
    "tags": []
   },
   "outputs": [
    {
     "data": {
      "text/plain": [
       "dict_keys(['players', 'radiant_win', 'duration', 'pre_game_duration', 'start_time', 'match_id', 'match_seq_num', 'tower_status_radiant', 'tower_status_dire', 'barracks_status_radiant', 'barracks_status_dire', 'cluster', 'first_blood_time', 'lobby_type', 'human_players', 'leagueid', 'game_mode', 'flags', 'engine', 'radiant_score', 'dire_score', 'picks_bans', 'od_data', 'metadata', 'patch', 'region'])"
      ]
     },
     "execution_count": 78,
     "metadata": {},
     "output_type": "execute_result"
    }
   ],
   "source": [
    "match_data.keys()"
   ]
  },
  {
   "cell_type": "code",
   "execution_count": 108,
   "id": "0a9ae3d2-99f3-4ab1-ba09-3d800b981c83",
   "metadata": {
    "tags": []
   },
   "outputs": [
    {
     "data": {
      "text/plain": [
       "dict_keys(['player_slot', 'team_number', 'team_slot', 'hero_id', 'hero_variant', 'item_0', 'item_1', 'item_2', 'item_3', 'item_4', 'item_5', 'backpack_0', 'backpack_1', 'backpack_2', 'item_neutral', 'kills', 'deaths', 'assists', 'leaver_status', 'last_hits', 'denies', 'gold_per_min', 'xp_per_min', 'level', 'net_worth', 'aghanims_scepter', 'aghanims_shard', 'moonshard', 'hero_damage', 'tower_damage', 'hero_healing', 'gold', 'gold_spent', 'ability_upgrades_arr', 'radiant_win', 'start_time', 'duration', 'cluster', 'lobby_type', 'game_mode', 'is_contributor', 'patch', 'region', 'isRadiant', 'win', 'lose', 'total_gold', 'total_xp', 'kills_per_min', 'kda', 'abandons', 'rank_tier', 'is_subscriber', 'benchmarks'])"
      ]
     },
     "execution_count": 108,
     "metadata": {},
     "output_type": "execute_result"
    }
   ],
   "source": [
    "match_data['players'][0].keys()"
   ]
  },
  {
   "cell_type": "code",
   "execution_count": null,
   "id": "17490311-ddab-4fd8-bbc0-2723e30d4789",
   "metadata": {},
   "outputs": [],
   "source": []
  }
 ],
 "metadata": {
  "kernelspec": {
   "display_name": "Python 3 (ipykernel)",
   "language": "python",
   "name": "python3"
  },
  "language_info": {
   "codemirror_mode": {
    "name": "ipython",
    "version": 3
   },
   "file_extension": ".py",
   "mimetype": "text/x-python",
   "name": "python",
   "nbconvert_exporter": "python",
   "pygments_lexer": "ipython3",
   "version": "3.11.7"
  }
 },
 "nbformat": 4,
 "nbformat_minor": 5
}
